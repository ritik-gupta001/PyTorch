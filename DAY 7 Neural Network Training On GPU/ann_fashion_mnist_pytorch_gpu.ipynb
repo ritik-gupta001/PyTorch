{
 "cells": [
  {
   "cell_type": "code",
   "execution_count": 23,
   "metadata": {
    "id": "EhZMtSdM3W4N"
   },
   "outputs": [],
   "source": [
    "import pandas as pd\n",
    "from sklearn.model_selection import train_test_split\n",
    "import torch\n",
    "from torch.utils.data import Dataset, DataLoader\n",
    "import torch.nn as nn\n",
    "import torch.optim as optim\n",
    "import matplotlib.pyplot as plt"
   ]
  },
  {
   "cell_type": "code",
   "execution_count": 50,
   "metadata": {
    "colab": {
     "base_uri": "https://localhost:8080/"
    },
    "id": "NCrakIjRollf",
    "outputId": "c25e2b69-5799-4a9a-b7b1-8c26452b5433"
   },
   "outputs": [
    {
     "data": {
      "text/plain": [
       "<torch._C.Generator at 0x1aac7818550>"
      ]
     },
     "execution_count": 50,
     "metadata": {},
     "output_type": "execute_result"
    }
   ],
   "source": [
    "# Set random seeds for reproducibility\n",
    "torch.manual_seed(42)"
   ]
  },
  {
   "cell_type": "code",
   "execution_count": 51,
   "metadata": {
    "colab": {
     "base_uri": "https://localhost:8080/"
    },
    "id": "3DYn2_6J2oYF",
    "outputId": "28bb4bca-fe1d-4250-96aa-28f1e8735b54"
   },
   "outputs": [
    {
     "name": "stdout",
     "output_type": "stream",
     "text": [
      "Using device: cpu\n"
     ]
    }
   ],
   "source": [
    "# Check for GPU\n",
    "device = torch.device('cuda' if torch.cuda.is_available() else 'cpu')\n",
    "print(f\"Using device: {device}\")"
   ]
  },
  {
   "cell_type": "code",
   "execution_count": 26,
   "metadata": {
    "colab": {
     "base_uri": "https://localhost:8080/",
     "height": 255
    },
    "id": "7lZjGSXR35Qz",
    "outputId": "39b0df21-6aac-43e7-f652-3d377741b676"
   },
   "outputs": [
    {
     "data": {
      "text/html": [
       "<div>\n",
       "<style scoped>\n",
       "    .dataframe tbody tr th:only-of-type {\n",
       "        vertical-align: middle;\n",
       "    }\n",
       "\n",
       "    .dataframe tbody tr th {\n",
       "        vertical-align: top;\n",
       "    }\n",
       "\n",
       "    .dataframe thead th {\n",
       "        text-align: right;\n",
       "    }\n",
       "</style>\n",
       "<table border=\"1\" class=\"dataframe\">\n",
       "  <thead>\n",
       "    <tr style=\"text-align: right;\">\n",
       "      <th></th>\n",
       "      <th>label</th>\n",
       "      <th>pixel1</th>\n",
       "      <th>pixel2</th>\n",
       "      <th>pixel3</th>\n",
       "      <th>pixel4</th>\n",
       "      <th>pixel5</th>\n",
       "      <th>pixel6</th>\n",
       "      <th>pixel7</th>\n",
       "      <th>pixel8</th>\n",
       "      <th>pixel9</th>\n",
       "      <th>...</th>\n",
       "      <th>pixel775</th>\n",
       "      <th>pixel776</th>\n",
       "      <th>pixel777</th>\n",
       "      <th>pixel778</th>\n",
       "      <th>pixel779</th>\n",
       "      <th>pixel780</th>\n",
       "      <th>pixel781</th>\n",
       "      <th>pixel782</th>\n",
       "      <th>pixel783</th>\n",
       "      <th>pixel784</th>\n",
       "    </tr>\n",
       "  </thead>\n",
       "  <tbody>\n",
       "    <tr>\n",
       "      <th>0</th>\n",
       "      <td>0</td>\n",
       "      <td>0</td>\n",
       "      <td>0</td>\n",
       "      <td>0</td>\n",
       "      <td>0</td>\n",
       "      <td>0</td>\n",
       "      <td>0</td>\n",
       "      <td>0</td>\n",
       "      <td>9</td>\n",
       "      <td>8</td>\n",
       "      <td>...</td>\n",
       "      <td>103</td>\n",
       "      <td>87</td>\n",
       "      <td>56</td>\n",
       "      <td>0</td>\n",
       "      <td>0</td>\n",
       "      <td>0</td>\n",
       "      <td>0</td>\n",
       "      <td>0</td>\n",
       "      <td>0</td>\n",
       "      <td>0</td>\n",
       "    </tr>\n",
       "    <tr>\n",
       "      <th>1</th>\n",
       "      <td>1</td>\n",
       "      <td>0</td>\n",
       "      <td>0</td>\n",
       "      <td>0</td>\n",
       "      <td>0</td>\n",
       "      <td>0</td>\n",
       "      <td>0</td>\n",
       "      <td>0</td>\n",
       "      <td>0</td>\n",
       "      <td>0</td>\n",
       "      <td>...</td>\n",
       "      <td>34</td>\n",
       "      <td>0</td>\n",
       "      <td>0</td>\n",
       "      <td>0</td>\n",
       "      <td>0</td>\n",
       "      <td>0</td>\n",
       "      <td>0</td>\n",
       "      <td>0</td>\n",
       "      <td>0</td>\n",
       "      <td>0</td>\n",
       "    </tr>\n",
       "    <tr>\n",
       "      <th>2</th>\n",
       "      <td>2</td>\n",
       "      <td>0</td>\n",
       "      <td>0</td>\n",
       "      <td>0</td>\n",
       "      <td>0</td>\n",
       "      <td>0</td>\n",
       "      <td>0</td>\n",
       "      <td>14</td>\n",
       "      <td>53</td>\n",
       "      <td>99</td>\n",
       "      <td>...</td>\n",
       "      <td>0</td>\n",
       "      <td>0</td>\n",
       "      <td>0</td>\n",
       "      <td>0</td>\n",
       "      <td>63</td>\n",
       "      <td>53</td>\n",
       "      <td>31</td>\n",
       "      <td>0</td>\n",
       "      <td>0</td>\n",
       "      <td>0</td>\n",
       "    </tr>\n",
       "    <tr>\n",
       "      <th>3</th>\n",
       "      <td>2</td>\n",
       "      <td>0</td>\n",
       "      <td>0</td>\n",
       "      <td>0</td>\n",
       "      <td>0</td>\n",
       "      <td>0</td>\n",
       "      <td>0</td>\n",
       "      <td>0</td>\n",
       "      <td>0</td>\n",
       "      <td>0</td>\n",
       "      <td>...</td>\n",
       "      <td>137</td>\n",
       "      <td>126</td>\n",
       "      <td>140</td>\n",
       "      <td>0</td>\n",
       "      <td>133</td>\n",
       "      <td>224</td>\n",
       "      <td>222</td>\n",
       "      <td>56</td>\n",
       "      <td>0</td>\n",
       "      <td>0</td>\n",
       "    </tr>\n",
       "    <tr>\n",
       "      <th>4</th>\n",
       "      <td>3</td>\n",
       "      <td>0</td>\n",
       "      <td>0</td>\n",
       "      <td>0</td>\n",
       "      <td>0</td>\n",
       "      <td>0</td>\n",
       "      <td>0</td>\n",
       "      <td>0</td>\n",
       "      <td>0</td>\n",
       "      <td>0</td>\n",
       "      <td>...</td>\n",
       "      <td>0</td>\n",
       "      <td>0</td>\n",
       "      <td>0</td>\n",
       "      <td>0</td>\n",
       "      <td>0</td>\n",
       "      <td>0</td>\n",
       "      <td>0</td>\n",
       "      <td>0</td>\n",
       "      <td>0</td>\n",
       "      <td>0</td>\n",
       "    </tr>\n",
       "  </tbody>\n",
       "</table>\n",
       "<p>5 rows × 785 columns</p>\n",
       "</div>"
      ],
      "text/plain": [
       "   label  pixel1  pixel2  pixel3  pixel4  pixel5  pixel6  pixel7  pixel8  \\\n",
       "0      0       0       0       0       0       0       0       0       9   \n",
       "1      1       0       0       0       0       0       0       0       0   \n",
       "2      2       0       0       0       0       0       0      14      53   \n",
       "3      2       0       0       0       0       0       0       0       0   \n",
       "4      3       0       0       0       0       0       0       0       0   \n",
       "\n",
       "   pixel9  ...  pixel775  pixel776  pixel777  pixel778  pixel779  pixel780  \\\n",
       "0       8  ...       103        87        56         0         0         0   \n",
       "1       0  ...        34         0         0         0         0         0   \n",
       "2      99  ...         0         0         0         0        63        53   \n",
       "3       0  ...       137       126       140         0       133       224   \n",
       "4       0  ...         0         0         0         0         0         0   \n",
       "\n",
       "   pixel781  pixel782  pixel783  pixel784  \n",
       "0         0         0         0         0  \n",
       "1         0         0         0         0  \n",
       "2        31         0         0         0  \n",
       "3       222        56         0         0  \n",
       "4         0         0         0         0  \n",
       "\n",
       "[5 rows x 785 columns]"
      ]
     },
     "execution_count": 26,
     "metadata": {},
     "output_type": "execute_result"
    }
   ],
   "source": [
    "df = pd.read_csv('fashion-mnist_test.csv')\n",
    "df.head()"
   ]
  },
  {
   "cell_type": "code",
   "execution_count": 27,
   "metadata": {
    "colab": {
     "base_uri": "https://localhost:8080/"
    },
    "id": "u70Dnz9f36Yo",
    "outputId": "df768a14-3f30-4780-a8bd-5c0c6e4129f6"
   },
   "outputs": [
    {
     "data": {
      "text/plain": [
       "(10000, 785)"
      ]
     },
     "execution_count": 27,
     "metadata": {},
     "output_type": "execute_result"
    }
   ],
   "source": [
    "df.shape"
   ]
  },
  {
   "cell_type": "code",
   "execution_count": 28,
   "metadata": {
    "colab": {
     "base_uri": "https://localhost:8080/",
     "height": 1000
    },
    "id": "jFkhK1dvyzW8",
    "outputId": "94c3e113-afef-472d-8e9c-d17843e660cb"
   },
   "outputs": [
    {
     "data": {
      "image/png": "[encoded data removed]",
      "text/plain": [
       "<Figure size 1000x1000 with 16 Axes>"
      ]
     },
     "metadata": {},
     "output_type": "display_data"
    }
   ],
   "source": [
    "# Create a 4x4 grid of images\n",
    "fig, axes = plt.subplots(4, 4, figsize=(10, 10))\n",
    "fig.suptitle(\"First 16 Images\", fontsize=16)\n",
    "\n",
    "# Plot the first 16 images from the dataset\n",
    "for i, ax in enumerate(axes.flat):\n",
    "    img = df.iloc[i, 1:].values.reshape(28, 28)  # Reshape to 28x28\n",
    "    ax.imshow(img)  # Display in grayscale\n",
    "    ax.axis('off')  # Remove axis for a cleaner look\n",
    "    ax.set_title(f\"Label: {df.iloc[i, 0]}\")  # Show the label\n",
    "\n",
    "plt.tight_layout(rect=[0, 0, 1, 0.96])  # Adjust layout to fit the title\n",
    "plt.show()\n"
   ]
  },
  {
   "cell_type": "code",
   "execution_count": 29,
   "metadata": {
    "id": "CPoB2jkn3-8V"
   },
   "outputs": [],
   "source": [
    "# train test split\n",
    "\n",
    "X = df.iloc[:, 1:].values\n",
    "y = df.iloc[:, 0].values"
   ]
  },
  {
   "cell_type": "code",
   "execution_count": 30,
   "metadata": {
    "id": "CtmEmavE4K7V"
   },
   "outputs": [],
   "source": [
    "X_train, X_test, y_train, y_test = train_test_split(X, y, test_size=0.2, random_state=42)"
   ]
  },
  {
   "cell_type": "code",
   "execution_count": 31,
   "metadata": {
    "id": "6zRx5nPbkoM-"
   },
   "outputs": [],
   "source": [
    "X_train = X_train/255.0\n",
    "X_test = X_test/255.0"
   ]
  },
  {
   "cell_type": "code",
   "execution_count": 32,
   "metadata": {
    "id": "0oISAHnU5GnT"
   },
   "outputs": [],
   "source": [
    "class CustomDataset(Dataset):\n",
    "\n",
    "  def __init__(self, features, labels):\n",
    "\n",
    "    # Convert to PyTorch tensors\n",
    "    self.features = torch.tensor(features, dtype=torch.float32)\n",
    "    self.labels = torch.tensor(labels, dtype=torch.long)\n",
    "\n",
    "  def __len__(self):\n",
    "    return len(self.features)\n",
    "\n",
    "  def __getitem__(self, index):\n",
    "    return self.features[index], self.labels[index]"
   ]
  },
  {
   "cell_type": "code",
   "execution_count": 33,
   "metadata": {
    "id": "Thpv_XzP5z_b"
   },
   "outputs": [],
   "source": [
    "train_dataset = CustomDataset(X_train, y_train)"
   ]
  },
  {
   "cell_type": "code",
   "execution_count": 34,
   "metadata": {
    "id": "kqAkmOzV58TD"
   },
   "outputs": [],
   "source": [
    "test_dataset = CustomDataset(X_test, y_test)"
   ]
  },
  {
   "cell_type": "code",
   "execution_count": 35,
   "metadata": {
    "id": "UW-HhV4x5_PD"
   },
   "outputs": [],
   "source": [
    "train_loader = DataLoader(train_dataset, batch_size=32, shuffle=True, pin_memory=True)\n",
    "test_loader = DataLoader(test_dataset, batch_size=32, shuffle=False, pin_memory=True)"
   ]
  },
  {
   "cell_type": "code",
   "execution_count": 36,
   "metadata": {
    "colab": {
     "base_uri": "https://localhost:8080/"
    },
    "id": "uZq-FOc9Zdw4",
    "outputId": "f86da887-e358-4bad-e72f-6db6e4e68c7b"
   },
   "outputs": [
    {
     "data": {
      "text/plain": [
       "250"
      ]
     },
     "execution_count": 36,
     "metadata": {},
     "output_type": "execute_result"
    }
   ],
   "source": [
    "len(train_loader)"
   ]
  },
  {
   "cell_type": "code",
   "execution_count": 37,
   "metadata": {
    "id": "Xgn1tw9I6fPT"
   },
   "outputs": [],
   "source": [
    "class MyNN(nn.Module):\n",
    "\n",
    "  def __init__(self, num_features):\n",
    "\n",
    "    super().__init__()\n",
    "    self.model = nn.Sequential(\n",
    "        nn.Linear(num_features, 128),\n",
    "        nn.ReLU(),\n",
    "        nn.Linear(128, 64),\n",
    "        nn.ReLU(),\n",
    "        nn.Linear(64, 10)\n",
    "\n",
    "    )\n",
    "\n",
    "  def forward(self, x):\n",
    "\n",
    "    return self.model(x)\n"
   ]
  },
  {
   "cell_type": "code",
   "execution_count": 38,
   "metadata": {
    "id": "z3LfMWb698O5"
   },
   "outputs": [],
   "source": [
    "learning_rate = 0.1\n",
    "epochs = 100"
   ]
  },
  {
   "cell_type": "code",
   "execution_count": 39,
   "metadata": {
    "id": "JpbU_UCp9N1r"
   },
   "outputs": [],
   "source": [
    "# instatiate the model\n",
    "model = MyNN(X_train.shape[1])\n",
    "model = model.to(device)\n",
    "# loss function\n",
    "criterion = nn.CrossEntropyLoss()\n",
    "# optimizer\n",
    "optimizer = optim.SGD(model.parameters(), lr=learning_rate)"
   ]
  },
  {
   "cell_type": "code",
   "execution_count": 40,
   "metadata": {
    "colab": {
     "base_uri": "https://localhost:8080/"
    },
    "id": "0UpCVk9X-JaI",
    "outputId": "4089bf3c-4f18-42c3-92b7-9cf4dcbc8577"
   },
   "outputs": [
    {
     "name": "stderr",
     "output_type": "stream",
     "text": [
      "C:\\Users\\ritik\\anaconda3\\Lib\\site-packages\\torch\\utils\\data\\dataloader.py:665: UserWarning: 'pin_memory' argument is set as true but no accelerator is found, then device pinned memory won't be used.\n",
      "  warnings.warn(warn_msg)\n"
     ]
    },
    {
     "name": "stdout",
     "output_type": "stream",
     "text": [
      "Epoch: 1 , Loss: 1.1000939716100693\n",
      "Epoch: 2 , Loss: 0.6562159595489502\n",
      "Epoch: 3 , Loss: 0.5459831331372261\n",
      "Epoch: 4 , Loss: 0.49038056963682175\n",
      "Epoch: 5 , Loss: 0.45422116059064865\n",
      "Epoch: 6 , Loss: 0.42985714015364646\n",
      "Epoch: 7 , Loss: 0.4074053062200546\n",
      "Epoch: 8 , Loss: 0.38366756185889245\n",
      "Epoch: 9 , Loss: 0.3644450223147869\n",
      "Epoch: 10 , Loss: 0.35923640233278276\n",
      "Epoch: 11 , Loss: 0.3354197042733431\n",
      "Epoch: 12 , Loss: 0.3246269653439522\n",
      "Epoch: 13 , Loss: 0.30667670945823194\n",
      "Epoch: 14 , Loss: 0.30469723227620127\n",
      "Epoch: 15 , Loss: 0.29086729598045347\n",
      "Epoch: 16 , Loss: 0.28097976598143576\n",
      "Epoch: 17 , Loss: 0.27186631122231486\n",
      "Epoch: 18 , Loss: 0.26244241830706594\n",
      "Epoch: 19 , Loss: 0.25688289672136305\n",
      "Epoch: 20 , Loss: 0.25109578360617163\n",
      "Epoch: 21 , Loss: 0.23829599457979203\n",
      "Epoch: 22 , Loss: 0.23036945846676826\n",
      "Epoch: 23 , Loss: 0.21938094201683997\n",
      "Epoch: 24 , Loss: 0.21881818756461144\n",
      "Epoch: 25 , Loss: 0.20905663442611694\n",
      "Epoch: 26 , Loss: 0.1978832458406687\n",
      "Epoch: 27 , Loss: 0.20119583593308926\n",
      "Epoch: 28 , Loss: 0.19346807937324048\n",
      "Epoch: 29 , Loss: 0.1826370448693633\n",
      "Epoch: 30 , Loss: 0.17718195097148418\n",
      "Epoch: 31 , Loss: 0.178611809797585\n",
      "Epoch: 32 , Loss: 0.17087318605929613\n",
      "Epoch: 33 , Loss: 0.15818954498320817\n",
      "Epoch: 34 , Loss: 0.1642470121309161\n",
      "Epoch: 35 , Loss: 0.14848877813667058\n",
      "Epoch: 36 , Loss: 0.14944685254245996\n",
      "Epoch: 37 , Loss: 0.1485133014023304\n",
      "Epoch: 38 , Loss: 0.14278109712898732\n",
      "Epoch: 39 , Loss: 0.1484809041470289\n",
      "Epoch: 40 , Loss: 0.12857056044787168\n",
      "Epoch: 41 , Loss: 0.1347543075606227\n",
      "Epoch: 42 , Loss: 0.13429448729753493\n",
      "Epoch: 43 , Loss: 0.12303673281520605\n",
      "Epoch: 44 , Loss: 0.12174918553885072\n",
      "Epoch: 45 , Loss: 0.12326705719903111\n",
      "Epoch: 46 , Loss: 0.12848574253171682\n",
      "Epoch: 47 , Loss: 0.11398194680735468\n",
      "Epoch: 48 , Loss: 0.11781912728771568\n",
      "Epoch: 49 , Loss: 0.09704776231013239\n",
      "Epoch: 50 , Loss: 0.09575632046628743\n",
      "Epoch: 51 , Loss: 0.10302118346840143\n",
      "Epoch: 52 , Loss: 0.10227263176813722\n",
      "Epoch: 53 , Loss: 0.10194030126556754\n",
      "Epoch: 54 , Loss: 0.08935481682000682\n",
      "Epoch: 55 , Loss: 0.08967440553195774\n",
      "Epoch: 56 , Loss: 0.08577715479116887\n",
      "Epoch: 57 , Loss: 0.09044751150161028\n",
      "Epoch: 58 , Loss: 0.08146536407899112\n",
      "Epoch: 59 , Loss: 0.07353127806913108\n",
      "Epoch: 60 , Loss: 0.07272513814736158\n",
      "Epoch: 61 , Loss: 0.07913937861379236\n",
      "Epoch: 62 , Loss: 0.06886471382249147\n",
      "Epoch: 63 , Loss: 0.08358296630624681\n",
      "Epoch: 64 , Loss: 0.08862557095102966\n",
      "Epoch: 65 , Loss: 0.06910045319609344\n",
      "Epoch: 66 , Loss: 0.06933199281897395\n",
      "Epoch: 67 , Loss: 0.06575718971155584\n",
      "Epoch: 68 , Loss: 0.060880732332356274\n",
      "Epoch: 69 , Loss: 0.10776028510322794\n",
      "Epoch: 70 , Loss: 0.09644456055294723\n",
      "Epoch: 71 , Loss: 0.07436655395338312\n",
      "Epoch: 72 , Loss: 0.049792789621278644\n",
      "Epoch: 73 , Loss: 0.05550047687906772\n",
      "Epoch: 74 , Loss: 0.05815997900348157\n",
      "Epoch: 75 , Loss: 0.04110567545518279\n",
      "Epoch: 76 , Loss: 0.046685716294683516\n",
      "Epoch: 77 , Loss: 0.053719081895658743\n",
      "Epoch: 78 , Loss: 0.04841792138712481\n",
      "Epoch: 79 , Loss: 0.049314885071478784\n",
      "Epoch: 80 , Loss: 0.045412646407436114\n",
      "Epoch: 81 , Loss: 0.03753507135610562\n",
      "Epoch: 82 , Loss: 0.03992883998062462\n",
      "Epoch: 83 , Loss: 0.03947139030066319\n",
      "Epoch: 84 , Loss: 0.030433379274327307\n",
      "Epoch: 85 , Loss: 0.028206381182186307\n",
      "Epoch: 86 , Loss: 0.06018676240136847\n",
      "Epoch: 87 , Loss: 0.021539640218252318\n",
      "Epoch: 88 , Loss: 0.037091289962641896\n",
      "Epoch: 89 , Loss: 0.051548782880883666\n",
      "Epoch: 90 , Loss: 0.025467510390561075\n",
      "Epoch: 91 , Loss: 0.034873963983845895\n",
      "Epoch: 92 , Loss: 0.05039614909375086\n",
      "Epoch: 93 , Loss: 0.05762200977338944\n",
      "Epoch: 94 , Loss: 0.02634073549625464\n",
      "Epoch: 95 , Loss: 0.015442177993012592\n",
      "Epoch: 96 , Loss: 0.03729314899409655\n",
      "Epoch: 97 , Loss: 0.02416505064163357\n",
      "Epoch: 98 , Loss: 0.035147061344352554\n",
      "Epoch: 99 , Loss: 0.027319660231354646\n",
      "Epoch: 100 , Loss: 0.017514476123964413\n"
     ]
    }
   ],
   "source": [
    "# training loop\n",
    "\n",
    "for epoch in range(epochs):\n",
    "\n",
    "  total_epoch_loss = 0\n",
    "\n",
    "  for batch_features, batch_labels in train_loader:\n",
    "\n",
    "    # move data to gpu\n",
    "    batch_features, batch_labels = batch_features.to(device), batch_labels.to(device)\n",
    "\n",
    "    # forward pass\n",
    "    outputs = model(batch_features)\n",
    "\n",
    "    # calculate loss\n",
    "    loss = criterion(outputs, batch_labels)\n",
    "\n",
    "    # back pass\n",
    "    optimizer.zero_grad()\n",
    "    loss.backward()\n",
    "\n",
    "    # update grads\n",
    "    optimizer.step()\n",
    "\n",
    "    total_epoch_loss = total_epoch_loss + loss.item()\n",
    "\n",
    "  avg_loss = total_epoch_loss/len(train_loader)\n",
    "  print(f'Epoch: {epoch + 1} , Loss: {avg_loss}')\n"
   ]
  },
  {
   "cell_type": "code",
   "execution_count": 47,
   "metadata": {
    "colab": {
     "base_uri": "https://localhost:8080/"
    },
    "id": "CA6B2YPYAOtu",
    "outputId": "a4e4d29f-16cc-4661-c3ee-f283d9507ea1"
   },
   "outputs": [
    {
     "data": {
      "text/plain": [
       "MyNN(\n",
       "  (model): Sequential(\n",
       "    (0): Linear(in_features=784, out_features=128, bias=True)\n",
       "    (1): ReLU()\n",
       "    (2): Linear(in_features=128, out_features=64, bias=True)\n",
       "    (3): ReLU()\n",
       "    (4): Linear(in_features=64, out_features=10, bias=True)\n",
       "  )\n",
       ")"
      ]
     },
     "execution_count": 47,
     "metadata": {},
     "output_type": "execute_result"
    }
   ],
   "source": [
    "model.eval()"
   ]
  },
  {
   "cell_type": "code",
   "execution_count": 48,
   "metadata": {
    "colab": {
     "base_uri": "https://localhost:8080/"
    },
    "id": "Xwirkg4PPNhB",
    "outputId": "2cb29ff7-2ec2-4d0d-e7d9-d62cb9e04594"
   },
   "outputs": [
    {
     "name": "stdout",
     "output_type": "stream",
     "text": [
      "0.859\n"
     ]
    }
   ],
   "source": [
    "# evaluation code\n",
    "total = 0\n",
    "correct = 0\n",
    "\n",
    "with torch.no_grad():\n",
    "\n",
    "  for batch_features, batch_labels in test_loader:\n",
    "\n",
    "    # move data to gpu\n",
    "    batch_features, batch_labels = batch_features.to(device), batch_labels.to(device)\n",
    "\n",
    "    outputs = model(batch_features)\n",
    "\n",
    "    _, predicted = torch.max(outputs, 1)\n",
    "\n",
    "    total = total + batch_labels.shape[0]\n",
    "\n",
    "    correct = correct + (predicted == batch_labels).sum().item()\n",
    "\n",
    "print(correct/total)"
   ]
  },
  {
   "cell_type": "code",
   "execution_count": 45,
   "metadata": {
    "colab": {
     "base_uri": "https://localhost:8080/"
    },
    "id": "J5edAjvgr8tB",
    "outputId": "adb2d70b-105f-45ad-88ab-e2670e7d7a2f"
   },
   "outputs": [
    {
     "name": "stdout",
     "output_type": "stream",
     "text": [
      "0.999\n"
     ]
    }
   ],
   "source": [
    "# evaluation code\n",
    "total = 0\n",
    "correct = 0\n",
    "\n",
    "with torch.no_grad():\n",
    "\n",
    "  for batch_features, batch_labels in train_loader:\n",
    "\n",
    "    # move data to gpu\n",
    "    batch_features, batch_labels = batch_features.to(device), batch_labels.to(device)\n",
    "\n",
    "    outputs = model(batch_features)\n",
    "\n",
    "    _, predicted = torch.max(outputs, 1)\n",
    "\n",
    "    total = total + batch_labels.shape[0]\n",
    "\n",
    "    correct = correct + (predicted == batch_labels).sum().item()\n",
    "\n",
    "print(correct/total)"
   ]
  },
  {
   "cell_type": "code",
   "execution_count": 49,
   "metadata": {
    "id": "RiQB7vWWHY7k"
   },
   "outputs": [],
   "source": [
    "# since the training accuracy is larger than testing one it will overfits and can be reduced by \n",
    "# adding more data \n",
    "# reducing the complexity of NN architecture \n",
    "# regularization\n",
    "# dropouts \n",
    "# data augmentation\n",
    "# batch normalization\n",
    "# Early stopping\n",
    "# see days 8 of pytorch jupyter notebook\n"
   ]
  },
  {
   "cell_type": "code",
   "execution_count": 52,
   "metadata": {},
   "outputs": [],
   "source": [
    "# since i want to learn from this notebook i had written it on jupyter the complete code in gpu is written on colab notebbook too\n"
   ]
  },
  {
   "cell_type": "code",
   "execution_count": null,
   "metadata": {},
   "outputs": [],
   "source": []
  }
 ],
 "metadata": {
  "accelerator": "GPU",
  "colab": {
   "gpuType": "T4",
   "provenance": []
  },
  "kernelspec": {
   "display_name": "Python 3 (ipykernel)",
   "language": "python",
   "name": "python3"
  },
  "language_info": {
   "codemirror_mode": {
    "name": "ipython",
    "version": 3
   },
   "file_extension": ".py",
   "mimetype": "text/x-python",
   "name": "python",
   "nbconvert_exporter": "python",
   "pygments_lexer": "ipython3",
   "version": "3.11.7"
  }
 },
 "nbformat": 4,
 "nbformat_minor": 4
}
