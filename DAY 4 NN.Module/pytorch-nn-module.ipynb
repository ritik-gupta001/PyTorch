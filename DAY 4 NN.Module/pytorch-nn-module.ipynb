{
 "cells": [
  {
   "cell_type": "code",
   "execution_count": 66,
   "id": "73ac7b1d-539a-47d1-b87a-fe1a046313c7",
   "metadata": {},
   "outputs": [],
   "source": [
    "# create torch class \n",
    "import torch\n",
    "import torch.nn as nn\n",
    "class Model(nn.Module):\n",
    "    def __init__(self,num_features):\n",
    "        super().__init__()\n",
    "        self.linear=nn.Linear(num_features,1)\n",
    "        self.sigmoid=nn.Sigmoid()\n",
    "\n",
    "    def forward(self,features):\n",
    "        out=self.linear(features)\n",
    "        out =self.sigmoid(out)\n",
    "        return out \n",
    "        \n",
    "        "
   ]
  },
  {
   "cell_type": "code",
   "execution_count": 67,
   "id": "368503a2-5e62-41a2-b424-7667c3f89c83",
   "metadata": {},
   "outputs": [],
   "source": [
    "# creating datasets\n",
    "features=torch.rand(10,5)"
   ]
  },
  {
   "cell_type": "code",
   "execution_count": 68,
   "id": "ef244652-f278-4b94-bba1-1dbc6eea0621",
   "metadata": {},
   "outputs": [],
   "source": [
    "# create model\n",
    "model=Model(features.shape[1])"
   ]
  },
  {
   "cell_type": "code",
   "execution_count": 69,
   "id": "ca9756f6-9f47-420c-830d-080eb7fb0519",
   "metadata": {},
   "outputs": [
    {
     "data": {
      "text/plain": [
       "tensor([[0.3418],\n",
       "        [0.4410],\n",
       "        [0.3616],\n",
       "        [0.3463],\n",
       "        [0.4542],\n",
       "        [0.3689],\n",
       "        [0.4458],\n",
       "        [0.4520],\n",
       "        [0.3780],\n",
       "        [0.3301]], grad_fn=<SigmoidBackward0>)"
      ]
     },
     "execution_count": 69,
     "metadata": {},
     "output_type": "execute_result"
    }
   ],
   "source": [
    "# call model forward pass\n",
    "#model.forward(features)\n",
    "model(features)"
   ]
  },
  {
   "cell_type": "code",
   "execution_count": 43,
   "id": "abdcfe88-7d0e-4052-a279-4795bd92c680",
   "metadata": {},
   "outputs": [
    {
     "data": {
      "text/plain": [
       "Parameter containing:\n",
       "tensor([[-0.2753, -0.1628, -0.0096,  0.1810, -0.2728]], requires_grad=True)"
      ]
     },
     "execution_count": 43,
     "metadata": {},
     "output_type": "execute_result"
    }
   ],
   "source": [
    "# show model weights\n",
    "model.linear.weight"
   ]
  },
  {
   "cell_type": "code",
   "execution_count": 44,
   "id": "0281cc34-51cf-48d2-b0d5-1625d8ace9fa",
   "metadata": {},
   "outputs": [
    {
     "data": {
      "text/plain": [
       "Parameter containing:\n",
       "tensor([0.2389], requires_grad=True)"
      ]
     },
     "execution_count": 44,
     "metadata": {},
     "output_type": "execute_result"
    }
   ],
   "source": [
    "model.linear.bias"
   ]
  },
  {
   "cell_type": "code",
   "execution_count": 45,
   "id": "19ffa3a2-ff06-41ff-b0d4-94b4714f02b4",
   "metadata": {},
   "outputs": [
    {
     "name": "stdout",
     "output_type": "stream",
     "text": [
      "Requirement already satisfied: torchinfo in c:\\users\\ritik\\anaconda3\\lib\\site-packages (1.8.0)\n"
     ]
    }
   ],
   "source": [
    "! pip install torchinfo"
   ]
  },
  {
   "cell_type": "code",
   "execution_count": 46,
   "id": "773831b1-7b42-4872-b5ab-9a8caee9c211",
   "metadata": {},
   "outputs": [
    {
     "data": {
      "text/plain": [
       "==========================================================================================\n",
       "Layer (type:depth-idx)                   Output Shape              Param #\n",
       "==========================================================================================\n",
       "Model                                    [10, 1]                   --\n",
       "├─Linear: 1-1                            [10, 1]                   6\n",
       "├─Sigmoid: 1-2                           [10, 1]                   --\n",
       "==========================================================================================\n",
       "Total params: 6\n",
       "Trainable params: 6\n",
       "Non-trainable params: 0\n",
       "Total mult-adds (Units.MEGABYTES): 0.00\n",
       "==========================================================================================\n",
       "Input size (MB): 0.00\n",
       "Forward/backward pass size (MB): 0.00\n",
       "Params size (MB): 0.00\n",
       "Estimated Total Size (MB): 0.00\n",
       "=========================================================================================="
      ]
     },
     "execution_count": 46,
     "metadata": {},
     "output_type": "execute_result"
    }
   ],
   "source": [
    "from torchinfo import summary \n",
    "summary(model,input_size=(10,5))"
   ]
  },
  {
   "cell_type": "markdown",
   "id": "b026ae92-e779-4849-8d29-875bde607968",
   "metadata": {},
   "source": [
    "## creating a neural network with hidden layer"
   ]
  },
  {
   "cell_type": "code",
   "execution_count": 70,
   "id": "d3724d01-3ddc-403b-abfe-83d3d1f18178",
   "metadata": {},
   "outputs": [],
   "source": [
    "class Model(nn.Module):\n",
    "    def __init__(self,num_features):\n",
    "        super().__init__()\n",
    "        self.linear1=nn.Linear(num_features,3)\n",
    "        self.relu=nn.ReLU()\n",
    "        self.linear2=nn.Linear(3,1)\n",
    "        self.sigmoid=nn.Sigmoid()\n",
    "\n",
    "    def forward(self,features):\n",
    "        out=self.linear1(features)\n",
    "        out =self.relu(out)\n",
    "        out=self.linear2(out)\n",
    "        out=self.sigmoid(out)\n",
    "        return out \n",
    "        "
   ]
  },
  {
   "cell_type": "code",
   "execution_count": 71,
   "id": "34626001-aad9-46b1-ae46-1564c978d32e",
   "metadata": {},
   "outputs": [],
   "source": [
    "# creating datasets\n",
    "features=torch.rand(10,5)"
   ]
  },
  {
   "cell_type": "code",
   "execution_count": 72,
   "id": "f6d127da-beaf-4f23-969f-146f23b70666",
   "metadata": {},
   "outputs": [],
   "source": [
    "# create model\n",
    "model2=Model(features.shape[1])"
   ]
  },
  {
   "cell_type": "code",
   "execution_count": 73,
   "id": "eb6c7124-7722-43f3-b8ff-d4cf33557747",
   "metadata": {},
   "outputs": [
    {
     "data": {
      "text/plain": [
       "tensor([[0.5660],\n",
       "        [0.5622],\n",
       "        [0.5687],\n",
       "        [0.5479],\n",
       "        [0.5726],\n",
       "        [0.5438],\n",
       "        [0.5665],\n",
       "        [0.5481],\n",
       "        [0.5628],\n",
       "        [0.5372]], grad_fn=<SigmoidBackward0>)"
      ]
     },
     "execution_count": 73,
     "metadata": {},
     "output_type": "execute_result"
    }
   ],
   "source": [
    "# call model forward pass\n",
    "#model.forward(features)\n",
    "model2(features)"
   ]
  },
  {
   "cell_type": "code",
   "execution_count": 74,
   "id": "7cf81471-dbbe-4d7f-9582-102008b8c1a4",
   "metadata": {},
   "outputs": [
    {
     "data": {
      "text/plain": [
       "Parameter containing:\n",
       "tensor([[ 0.0331,  0.0237,  0.1808, -0.0969,  0.0815],\n",
       "        [ 0.3865,  0.3634,  0.3839,  0.2658, -0.0449],\n",
       "        [-0.3801,  0.0365,  0.1501, -0.0172,  0.4117]], requires_grad=True)"
      ]
     },
     "execution_count": 74,
     "metadata": {},
     "output_type": "execute_result"
    }
   ],
   "source": [
    "# show model weights\n",
    "model2.linear1.weight"
   ]
  },
  {
   "cell_type": "code",
   "execution_count": 75,
   "id": "30123f48-6518-4dd2-b03f-361985c7266e",
   "metadata": {},
   "outputs": [
    {
     "data": {
      "text/plain": [
       "Parameter containing:\n",
       "tensor([[ 0.4056,  0.2121, -0.3023]], requires_grad=True)"
      ]
     },
     "execution_count": 75,
     "metadata": {},
     "output_type": "execute_result"
    }
   ],
   "source": [
    "model2.linear2.weight"
   ]
  },
  {
   "cell_type": "code",
   "execution_count": 76,
   "id": "b1352963-a70a-4559-b5f5-abcfb06009ea",
   "metadata": {},
   "outputs": [
    {
     "data": {
      "text/plain": [
       "Parameter containing:\n",
       "tensor([0.1627], requires_grad=True)"
      ]
     },
     "execution_count": 76,
     "metadata": {},
     "output_type": "execute_result"
    }
   ],
   "source": [
    "model2.linear2.bias"
   ]
  },
  {
   "cell_type": "code",
   "execution_count": 77,
   "id": "6a013dad-4d15-45a4-8d5c-7bf1849258b6",
   "metadata": {},
   "outputs": [
    {
     "data": {
      "text/plain": [
       "Parameter containing:\n",
       "tensor([-0.1873, -0.3894, -0.3289], requires_grad=True)"
      ]
     },
     "execution_count": 77,
     "metadata": {},
     "output_type": "execute_result"
    }
   ],
   "source": [
    "model2.linear1.bias"
   ]
  },
  {
   "cell_type": "code",
   "execution_count": 87,
   "id": "9ec775ee-445e-4760-8f69-0c72468c753e",
   "metadata": {},
   "outputs": [
    {
     "data": {
      "text/plain": [
       "==========================================================================================\n",
       "Layer (type:depth-idx)                   Output Shape              Param #\n",
       "==========================================================================================\n",
       "Model                                    [10, 1]                   --\n",
       "├─Linear: 1-1                            [10, 3]                   18\n",
       "├─ReLU: 1-2                              [10, 3]                   --\n",
       "├─Linear: 1-3                            [10, 1]                   4\n",
       "├─Sigmoid: 1-4                           [10, 1]                   --\n",
       "==========================================================================================\n",
       "Total params: 22\n",
       "Trainable params: 22\n",
       "Non-trainable params: 0\n",
       "Total mult-adds (Units.MEGABYTES): 0.00\n",
       "==========================================================================================\n",
       "Input size (MB): 0.00\n",
       "Forward/backward pass size (MB): 0.00\n",
       "Params size (MB): 0.00\n",
       "Estimated Total Size (MB): 0.00\n",
       "=========================================================================================="
      ]
     },
     "execution_count": 87,
     "metadata": {},
     "output_type": "execute_result"
    }
   ],
   "source": [
    "summary(model2,input_size=(10,5))"
   ]
  },
  {
   "cell_type": "markdown",
   "id": "4045e9a5-6a80-44f9-9765-1d1478b2c5d1",
   "metadata": {},
   "source": [
    "## making sequential container for the forward to simplify  it\n"
   ]
  },
  {
   "cell_type": "code",
   "execution_count": 82,
   "id": "c6e83810-6edc-45e0-bbf9-e845878a01bd",
   "metadata": {},
   "outputs": [],
   "source": [
    "class Model(nn.Module):\n",
    "    def __init__(self,num_features):\n",
    "        super().__init__()\n",
    "        self.network=nn.Sequential(\n",
    "            nn.Linear(num_features,3),\n",
    "            nn.ReLU(),\n",
    "            nn.Linear(3,1),\n",
    "            nn.Sigmoid()\n",
    "        )\n",
    "    def forward(self,features):\n",
    "        out=self.network(features)\n",
    "       \n",
    "        return out \n",
    "        "
   ]
  },
  {
   "cell_type": "code",
   "execution_count": 83,
   "id": "a7087291-5781-4c6d-ae3d-ad149600b354",
   "metadata": {},
   "outputs": [],
   "source": [
    "# creating datasets\n",
    "features=torch.rand(10,5)"
   ]
  },
  {
   "cell_type": "code",
   "execution_count": 84,
   "id": "e67f4ecf-025c-4887-b1ac-62357ff63973",
   "metadata": {},
   "outputs": [],
   "source": [
    "# create model\n",
    "model3=Model(features.shape[1])"
   ]
  },
  {
   "cell_type": "code",
   "execution_count": 85,
   "id": "853eb063-3cb4-47d3-b45a-3273b855f361",
   "metadata": {},
   "outputs": [
    {
     "data": {
      "text/plain": [
       "tensor([[0.4150],\n",
       "        [0.3973],\n",
       "        [0.3973],\n",
       "        [0.3973],\n",
       "        [0.3984],\n",
       "        [0.3973],\n",
       "        [0.3973],\n",
       "        [0.3973],\n",
       "        [0.3973],\n",
       "        [0.3971]], grad_fn=<SigmoidBackward0>)"
      ]
     },
     "execution_count": 85,
     "metadata": {},
     "output_type": "execute_result"
    }
   ],
   "source": [
    "# call model forward pass\n",
    "#model.forward(features)\n",
    "model3(features)"
   ]
  },
  {
   "cell_type": "code",
   "execution_count": 88,
   "id": "5d9ac71c-c556-46e4-91a4-05ccdcfa51ba",
   "metadata": {},
   "outputs": [
    {
     "data": {
      "text/plain": [
       "==========================================================================================\n",
       "Layer (type:depth-idx)                   Output Shape              Param #\n",
       "==========================================================================================\n",
       "Model                                    [10, 1]                   --\n",
       "├─Sequential: 1-1                        [10, 1]                   --\n",
       "│    └─Linear: 2-1                       [10, 3]                   18\n",
       "│    └─ReLU: 2-2                         [10, 3]                   --\n",
       "│    └─Linear: 2-3                       [10, 1]                   4\n",
       "│    └─Sigmoid: 2-4                      [10, 1]                   --\n",
       "==========================================================================================\n",
       "Total params: 22\n",
       "Trainable params: 22\n",
       "Non-trainable params: 0\n",
       "Total mult-adds (Units.MEGABYTES): 0.00\n",
       "==========================================================================================\n",
       "Input size (MB): 0.00\n",
       "Forward/backward pass size (MB): 0.00\n",
       "Params size (MB): 0.00\n",
       "Estimated Total Size (MB): 0.00\n",
       "=========================================================================================="
      ]
     },
     "execution_count": 88,
     "metadata": {},
     "output_type": "execute_result"
    }
   ],
   "source": [
    "summary(model3,input_size=(10,5))"
   ]
  },
  {
   "cell_type": "code",
   "execution_count": null,
   "id": "fab89b05-0b13-4164-9004-1227d01b8345",
   "metadata": {},
   "outputs": [],
   "source": []
  }
 ],
 "metadata": {
  "kernelspec": {
   "display_name": "Python 3 (ipykernel)",
   "language": "python",
   "name": "python3"
  },
  "language_info": {
   "codemirror_mode": {
    "name": "ipython",
    "version": 3
   },
   "file_extension": ".py",
   "mimetype": "text/x-python",
   "name": "python",
   "nbconvert_exporter": "python",
   "pygments_lexer": "ipython3",
   "version": "3.11.7"
  }
 },
 "nbformat": 4,
 "nbformat_minor": 5
}
